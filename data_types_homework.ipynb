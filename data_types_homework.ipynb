{
 "cells": [
  {
   "cell_type": "code",
   "execution_count": null,
   "id": "c62c4f5c",
   "metadata": {},
   "outputs": [],
   "source": [
    "fname = input(\"Enter first name: \")\n",
    "lname = input(\"Enter last name: \")\n",
    "\n",
    "print(input(f\"Hello {fname} {lname}: Please enter the first line of 'Raven' by Edgar Allen Poe\"))\n",
    "\n",
    "poe_str = \"Deep into that darkness peering\"\n",
    "print(len(poe_str))"
   ]
  },
  {
   "cell_type": "code",
   "execution_count": null,
   "id": "437eda75",
   "metadata": {},
   "outputs": [],
   "source": [
    "r.strip() eliminates the whitespaces which is necessary because text cannot process text when the amout of whitespace is unknown"
   ]
  }
 ],
 "metadata": {
  "kernelspec": {
   "display_name": "Python 3 (ipykernel)",
   "language": "python",
   "name": "python3"
  },
  "language_info": {
   "codemirror_mode": {
    "name": "ipython",
    "version": 3
   },
   "file_extension": ".py",
   "mimetype": "text/x-python",
   "name": "python",
   "nbconvert_exporter": "python",
   "pygments_lexer": "ipython3",
   "version": "3.9.13"
  }
 },
 "nbformat": 4,
 "nbformat_minor": 5
}
