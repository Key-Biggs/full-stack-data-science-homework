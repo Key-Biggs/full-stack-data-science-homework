{
 "cells": [
  {
   "cell_type": "code",
   "execution_count": null,
   "id": "faf5008f",
   "metadata": {},
   "outputs": [],
   "source": []
  },
  {
   "cell_type": "code",
   "execution_count": 1,
   "id": "c209099c",
   "metadata": {},
   "outputs": [
    {
     "name": "stdout",
     "output_type": "stream",
     "text": [
      "Username available\n",
      "Username taken\n",
      "Username available\n",
      "Username taken\n",
      "Username available\n",
      "Username available\n",
      "Username taken\n",
      "Username available\n"
     ]
    }
   ],
   "source": [
    "#1\n",
    "current_users = ['william', 'ben', 'martin', 'eddie', 'gabriel']\n",
    "new_users = ['gabriel','ben','martin','takehiro', 'thomas']\n",
    "\n",
    "for x in current_users:\n",
    "    for y in new_users:\n",
    "        if x == y:\n",
    "            print(\"Username taken\")\n",
    "    else:\n",
    "        print(\"Username available\")"
   ]
  },
  {
   "cell_type": "code",
   "execution_count": null,
   "id": "3ce94b98",
   "metadata": {},
   "outputs": [],
   "source": []
  },
  {
   "cell_type": "code",
   "execution_count": 3,
   "id": "83aa461e",
   "metadata": {},
   "outputs": [],
   "source": [
    "#2\n",
    "def color_probability(color, texture):\n",
    "    prob_color = {'red': 5/10, 'yellow': 3/10, 'green': 2/10}\n",
    "    \n",
    "    prob_texture = {'bumpy': 3/10, 'smooth': 7/10}\n",
    "    \n",
    "    prob = prob_color[color] * prob_texture[texture]\n",
    "    \n",
    "    return round(prob, 2)"
   ]
  },
  {
   "cell_type": "code",
   "execution_count": null,
   "id": "5eccf35f",
   "metadata": {},
   "outputs": [],
   "source": []
  },
  {
   "cell_type": "code",
   "execution_count": null,
   "id": "6069cb84",
   "metadata": {},
   "outputs": [],
   "source": [
    "#3\n",
    "age = 75\n",
    "if age < 2:\n",
    "    print(\"This person is a baby\")\n",
    "elif age >= 2 and age < 4:\n",
    "    print('This person is a toddler')\n",
    "elif age >= 4 and age < 13:\n",
    "    print('This person is a kid')\n",
    "elif age >= 13 and age < 20:\n",
    "    print('This person is an teenager')\n",
    "elif age >= 20 and age < 65:\n",
    "    print('This person is an adult')\n",
    "else:\n",
    "    print(\"this person is an elder\")"
   ]
  }
 ],
 "metadata": {
  "kernelspec": {
   "display_name": "Python 3 (ipykernel)",
   "language": "python",
   "name": "python3"
  },
  "language_info": {
   "codemirror_mode": {
    "name": "ipython",
    "version": 3
   },
   "file_extension": ".py",
   "mimetype": "text/x-python",
   "name": "python",
   "nbconvert_exporter": "python",
   "pygments_lexer": "ipython3",
   "version": "3.9.13"
  }
 },
 "nbformat": 4,
 "nbformat_minor": 5
}
