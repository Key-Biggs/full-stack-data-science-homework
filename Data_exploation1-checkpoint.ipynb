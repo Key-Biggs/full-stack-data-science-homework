{
 "cells": [
  {
   "cell_type": "code",
   "execution_count": null,
   "id": "5f03af43-5290-4324-85c1-b13dcc3c5e6a",
   "metadata": {},
   "outputs": [],
   "source": [
    "#Data Exploration\n",
    "#Assignment 2"
   ]
  },
  {
   "cell_type": "code",
   "execution_count": null,
   "id": "97685ed8-8f3e-4ad1-9397-132e2d970934",
   "metadata": {},
   "outputs": [],
   "source": [
    "1. Determine the types of the below-given variables:\n",
    "\n",
    "Age is a continous variable using length of time as the measurement\n",
    "Salary is a contiouns variable using amount measured using a particular currency like USD\n",
    "Income is a contiouns variable using amount measured using a particular currency like USD\n",
    "Customer type is a categorical variable that is grouped or categorized like new customer or rewards customer\n",
    "Stock price is a contiouns variable using amount measured using a particular currency like USD\n",
    "\n",
    "2. Using the movie data, we have studied in this lesson. Complete the following tasks:\n",
    "Select a continuous and a categorical variable from the movie dataset and discuss the variable type of this variable. Discuss further in detail the type of selected continuous and categorical variables.\n",
    "Categorize a variable of your choice and assign a name to it\n",
    "Count the number of rows for each category\n",
    "\n",
    "An example of a continous variable would be a movies 'runtime' in minutes. The categorical variable would be the 'genre' of the movie, which could be further categorized. \n"
   ]
  },
  {
   "cell_type": "code",
   "execution_count": 5,
   "id": "165e3160-0418-4af4-a019-70f9ccc41f37",
   "metadata": {},
   "outputs": [
    {
     "name": "stdout",
     "output_type": "stream",
     "text": [
      "<class 'pandas.core.frame.DataFrame'>\n",
      "RangeIndex: 1000 entries, 0 to 999\n",
      "Data columns (total 12 columns):\n",
      " #   Column              Non-Null Count  Dtype  \n",
      "---  ------              --------------  -----  \n",
      " 0   Rank                1000 non-null   int64  \n",
      " 1   Title               1000 non-null   object \n",
      " 2   Genre               1000 non-null   object \n",
      " 3   Description         1000 non-null   object \n",
      " 4   Director            1000 non-null   object \n",
      " 5   Actors              1000 non-null   object \n",
      " 6   Year                1000 non-null   int64  \n",
      " 7   Runtime (Minutes)   1000 non-null   int64  \n",
      " 8   Rating              1000 non-null   float64\n",
      " 9   Votes               1000 non-null   int64  \n",
      " 10  Revenue (Millions)  872 non-null    float64\n",
      " 11  Metascore           936 non-null    float64\n",
      "dtypes: float64(3), int64(4), object(5)\n",
      "memory usage: 93.9+ KB\n"
     ]
    },
    {
     "data": {
      "text/plain": [
       "Index(['Rank', 'Title', 'Genre', 'Description', 'Director', 'Actors', 'Year',\n",
       "       'Runtime (Minutes)', 'Rating', 'Votes', 'Revenue (Millions)',\n",
       "       'Metascore'],\n",
       "      dtype='object')"
      ]
     },
     "execution_count": 5,
     "metadata": {},
     "output_type": "execute_result"
    }
   ],
   "source": [
    "import pandas as pd\n",
    "movies_df = pd.read_csv('movies.csv')\n",
    "movies_df.info()\n",
    "movies_df.columns"
   ]
  },
  {
   "cell_type": "code",
   "execution_count": 7,
   "id": "c136fd5a-6490-4fa7-88ae-8166541be0b8",
   "metadata": {},
   "outputs": [
    {
     "data": {
      "text/plain": [
       "(1000, 12)"
      ]
     },
     "execution_count": 7,
     "metadata": {},
     "output_type": "execute_result"
    }
   ],
   "source": [
    "movies_df.shape"
   ]
  },
  {
   "cell_type": "code",
   "execution_count": 8,
   "id": "42f4722d-f66f-4969-90bf-a27b8eac9bfb",
   "metadata": {},
   "outputs": [
    {
     "data": {
      "text/plain": [
       "1000"
      ]
     },
     "execution_count": 8,
     "metadata": {},
     "output_type": "execute_result"
    }
   ],
   "source": [
    "len(movies_df)"
   ]
  },
  {
   "cell_type": "code",
   "execution_count": null,
   "id": "356ce0c2-6d10-476c-acb3-aeadb5d5022c",
   "metadata": {},
   "outputs": [],
   "source": [
    "3. Is it possible to convert categorical variable into numerical one? If so, how can you make that?"
   ]
  },
  {
   "cell_type": "code",
   "execution_count": null,
   "id": "709652fe-38cd-47c9-b3fd-688e2004cc3d",
   "metadata": {},
   "outputs": [],
   "source": [
    "Yes it is possible to convert a categorical variable into a numerical variable. It depends on if the variable is nominal (no natural order between categories) we should use the one-hot encoding technique, which creates a binary variable for each category.\n",
    "If the variable is ordinal, it is possible to associate a numerical value to each category that mirrors the order in the category."
   ]
  },
  {
   "cell_type": "code",
   "execution_count": null,
   "id": "245d622c-849a-495f-9caf-8a59583ba9d7",
   "metadata": {},
   "outputs": [],
   "source": [
    "4. While continuous data is generally preferred over discrete data, please indicate circumstances where discrete is the preferred data type although continuous data is available for the same characteristic."
   ]
  },
  {
   "cell_type": "code",
   "execution_count": null,
   "id": "d0e41001-8f73-450e-9043-80426a06af9f",
   "metadata": {},
   "outputs": [],
   "source": [
    "Measuring countable items is one of the circumstances where discrete data is preferred. Some statistical models require discrete data, like logistic regression and Poisson distribution"
   ]
  },
  {
   "cell_type": "code",
   "execution_count": null,
   "id": "d3bb6c98-91c0-441d-a40f-d6a6b0a87bc3",
   "metadata": {},
   "outputs": [],
   "source": [
    "5. While continuous data is measured and attribute data is counted, there is sometimes confusion if some specific dataset should be considered continuous or attribute. Provide some examples of confusing datasets and your inference.\n"
   ]
  },
  {
   "cell_type": "code",
   "execution_count": null,
   "id": "4335b001-39f6-44fa-b5c6-90aa61beebda",
   "metadata": {},
   "outputs": [],
   "source": [
    "The age and height of a pereson could be considered continous as the measurements can take any value between two endpoints."
   ]
  },
  {
   "cell_type": "code",
   "execution_count": null,
   "id": "db1ed1b4-a10e-4761-9900-440db5eed787",
   "metadata": {},
   "outputs": [],
   "source": []
  }
 ],
 "metadata": {
  "kernelspec": {
   "display_name": "Python 3 (ipykernel)",
   "language": "python",
   "name": "python3"
  },
  "language_info": {
   "codemirror_mode": {
    "name": "ipython",
    "version": 3
   },
   "file_extension": ".py",
   "mimetype": "text/x-python",
   "name": "python",
   "nbconvert_exporter": "python",
   "pygments_lexer": "ipython3",
   "version": "3.9.13"
  }
 },
 "nbformat": 4,
 "nbformat_minor": 5
}
