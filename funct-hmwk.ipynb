{
 "cells": [
  {
   "cell_type": "code",
   "execution_count": null,
   "id": "260b09f2",
   "metadata": {},
   "outputs": [
    {
     "name": "stdout",
     "output_type": "stream",
     "text": [
      "Enter your number55\n",
      "55 is a Prime number:False\n"
     ]
    }
   ],
   "source": [
    "#1\n",
    "def isPrime(n):\n",
    "    for number in range(2, n//2):\n",
    "        if n % number == 0:\n",
    "            return False\n",
    "    return True\n",
    "\n",
    "\n",
    "num = int(input('Enter your number'))\n",
    "output = isPrime(num)\n",
    "print(\"{} is a Prime number:{}\".format(num, output))\n",
    "num = int(input('Enter your number')) \n",
    "output = isPrime(num)\n",
    "print(\"{} is a Prime number:{}\".format(num, output))"
   ]
  },
  {
   "cell_type": "code",
   "execution_count": null,
   "id": "d243670d",
   "metadata": {},
   "outputs": [],
   "source": []
  },
  {
   "cell_type": "code",
   "execution_count": 27,
   "id": "f97d6de4",
   "metadata": {},
   "outputs": [
    {
     "name": "stdout",
     "output_type": "stream",
     "text": [
      "60.0\n"
     ]
    }
   ],
   "source": [
    "#2\n",
    "def celsius_to_romer(c):\n",
    "\n",
    "    \n",
    "    Ro = c * 21/ 40 + 7.5\n",
    "    return Ro\n",
    "\n",
    "print(celsius_to_romer(100))\n",
    "    "
   ]
  },
  {
   "cell_type": "code",
   "execution_count": 4,
   "id": "f0ca0a3d",
   "metadata": {},
   "outputs": [
    {
     "data": {
      "text/plain": [
       "False"
      ]
     },
     "execution_count": 4,
     "metadata": {},
     "output_type": "execute_result"
    }
   ],
   "source": [
    "#3\n",
    "def is_divisible(wall_length, pixel_length):\n",
    "    \n",
    "    return wall_length % pixel_length == 0\n",
    "\n",
    "\n",
    "is_divisible(4066, 27)\n"
   ]
  },
  {
   "cell_type": "code",
   "execution_count": null,
   "id": "af12e5c5",
   "metadata": {},
   "outputs": [],
   "source": []
  }
 ],
 "metadata": {
  "kernelspec": {
   "display_name": "Python 3 (ipykernel)",
   "language": "python",
   "name": "python3"
  },
  "language_info": {
   "codemirror_mode": {
    "name": "ipython",
    "version": 3
   },
   "file_extension": ".py",
   "mimetype": "text/x-python",
   "name": "python",
   "nbconvert_exporter": "python",
   "pygments_lexer": "ipython3",
   "version": "3.9.13"
  }
 },
 "nbformat": 4,
 "nbformat_minor": 5
}
