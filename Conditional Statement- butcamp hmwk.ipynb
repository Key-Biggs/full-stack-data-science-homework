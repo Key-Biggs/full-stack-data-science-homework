{
 "cells": [
  {
   "cell_type": "code",
   "execution_count": null,
   "id": "3336bc04",
   "metadata": {},
   "outputs": [],
   "source": []
  },
  {
   "cell_type": "code",
   "execution_count": 5,
   "id": "60ea21ed",
   "metadata": {},
   "outputs": [
    {
     "name": "stdout",
     "output_type": "stream",
     "text": [
      "Enter an number between 10 and 20:15\n",
      "Thank you!\n"
     ]
    }
   ],
   "source": [
    "som_number = int(input(\"Enter an number between 10 and 20:\"))\n",
    "if 10<= som_number <=20:\n",
    "    print(\"Thank you!\")\n",
    "else:\n",
    "    print(\"Incorrect answer\")"
   ]
  },
  {
   "cell_type": "code",
   "execution_count": null,
   "id": "a22b651c",
   "metadata": {},
   "outputs": [],
   "source": []
  },
  {
   "cell_type": "code",
   "execution_count": 6,
   "id": "2caa68cb",
   "metadata": {},
   "outputs": [
    {
     "name": "stdout",
     "output_type": "stream",
     "text": [
      "Enter a letter: y\n",
      "This is sometimes a vowel\n"
     ]
    }
   ],
   "source": [
    "vowels = ['a', 'e', 'i', 'o', 'u']\n",
    "vowels_plus = ['y']\n",
    "letters = ['b', 'c', 'd', 'f', 'g','h', 'j', 'k', 'l', 'm', 'n', 'p', 'q', 'r', 's', 't', 'v', 'w', 'x', 'z']\n",
    "\n",
    "\n",
    "letter = (input(\"Enter a letter: \"))\n",
    "if letter in vowels:\n",
    "    print('This letter is a vowel')\n",
    "elif letter in vowels_plus:\n",
    "    print('This is sometimes a vowel')\n",
    "else:\n",
    "    print('This letter is a consonant')"
   ]
  },
  {
   "cell_type": "code",
   "execution_count": null,
   "id": "b3322c14",
   "metadata": {},
   "outputs": [],
   "source": []
  }
 ],
 "metadata": {
  "kernelspec": {
   "display_name": "Python 3 (ipykernel)",
   "language": "python",
   "name": "python3"
  },
  "language_info": {
   "codemirror_mode": {
    "name": "ipython",
    "version": 3
   },
   "file_extension": ".py",
   "mimetype": "text/x-python",
   "name": "python",
   "nbconvert_exporter": "python",
   "pygments_lexer": "ipython3",
   "version": "3.9.13"
  }
 },
 "nbformat": 4,
 "nbformat_minor": 5
}
